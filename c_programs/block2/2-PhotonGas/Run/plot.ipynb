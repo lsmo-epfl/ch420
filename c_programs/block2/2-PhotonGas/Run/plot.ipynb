{
 "cells": [
  {
   "cell_type": "code",
   "execution_count": null,
   "metadata": {},
   "outputs": [],
   "source": [
    "from matplotlib import pyplot as plt\n",
    "# This is all beta values you may want to use in run_auto script\n",
    "BETA_ALL = \"0.25 0.50 0.75 1.00 1.25 1.50 2.00 3.00 4.00\" \n",
    "\n",
    "beta_str_ls = BETA_ALL.split()\n",
    "beta_ls = [float(x) for x in beta_str_ls]\n",
    "average_values = []\n",
    "theoretical_values = []\n",
    "# This is a function to extract data from log file\n",
    "def extract_values(filename):\n",
    "    with open(filename, 'r') as file:\n",
    "        lines = file.readlines()\n",
    "\n",
    "    for line in lines:\n",
    "        if \"Average Value\" in line:\n",
    "            avg_value = float(line.split(\":\")[1].strip())\n",
    "        elif \"Theoretical Value\" in line:\n",
    "            theoretical_value = float(line.split(\":\")[1].strip())\n",
    "\n",
    "    return avg_value, theoretical_value\n",
    "\n",
    "for beta_str in beta_str_ls:\n",
    "    filename = f\"beta_{beta_str}.log\"\n",
    "    avg, theo = extract_values(filename)\n",
    "    print(f\"beta = {beta_str}, avg = {avg}, theo = {theo}\")\n",
    "    average_values.append(avg)\n",
    "    theoretical_values.append(theo)\n",
    "\n",
    "plt.scatter(beta_ls, average_values, color=\"green\",label=\"Average Value\")\n",
    "plt.plot(beta_ls, theoretical_values, label=\"Theoretical Value\")\n",
    "plt.xlabel(\"Beta*epsilon\")\n",
    "plt.ylabel(\"Average occupancy\")\n",
    "plt.legend()\n"
   ]
  },
  {
   "cell_type": "code",
   "execution_count": null,
   "metadata": {},
   "outputs": [],
   "source": [
    "import numpy as np\n",
    "\n",
    "beta = 0.25 # this is a value i choose\n",
    "\n",
    "data = np.loadtxt(\"distribution.dat\",delimiter=\",\")\n",
    "\n",
    "plt.scatter(data[:,0],data[:,1],label=\"Simulation Distribution\")\n",
    "plt.plot(data[:,0],np.exp(-beta*data[:,0])*(1-np.exp(-1*beta)),color='green',label=\"Theoretical Distribution\")\n",
    "plt.ylabel(\"Occupancy\")\n",
    "plt.xlabel(\"Energy level\")\n",
    "plt.legend()"
   ]
  }
 ],
 "metadata": {
  "kernelspec": {
   "display_name": "molsim",
   "language": "python",
   "name": "python3"
  },
  "language_info": {
   "codemirror_mode": {
    "name": "ipython",
    "version": 3
   },
   "file_extension": ".py",
   "mimetype": "text/x-python",
   "name": "python",
   "nbconvert_exporter": "python",
   "pygments_lexer": "ipython3",
   "version": "3.12.1"
  }
 },
 "nbformat": 4,
 "nbformat_minor": 2
}
