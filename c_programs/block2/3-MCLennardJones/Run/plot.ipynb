{
 "cells": [
  {
   "cell_type": "code",
   "execution_count": null,
   "metadata": {},
   "outputs": [],
   "source": [
    "def extract_pressure(filename):\n",
    "    with open(filename, 'r') as file:\n",
    "        lines = file.readlines()\n",
    "\n",
    "    for line in lines:\n",
    "        if \"Average Pressure\" in line:\n",
    "            avg_pressure = float(line.split(\":\")[1].strip())\n",
    "\n",
    "    return avg_pressure\n",
    "\n",
    "# List of values\n",
    "values = [0.1, 0.2, 0.3, 0.4, 0.5, 0.6, 0.7, 0.8, 0.9, 1.0, 1.2, 1.4, 1.6, 2.0, 2.2, 2.6, 3.0]\n",
    "pressure_ls = []\n",
    "# Generate file names and use the function for each file\n",
    "for value in values:\n",
    "    file = f'output_2.0_{value:.1f}.txt'\n",
    "    avg_pressure = extract_pressure(file)\n",
    "    print(f'Average Pressure in {file}: {avg_pressure}')\n",
    "    pressure_ls.append(avg_pressure)\n",
    "\n",
    "import matplotlib.pyplot as plt\n",
    "plt.plot(values, pressure_ls, 'o')\n",
    "plt.xlabel('Density')\n",
    "plt.ylabel('Pressure')"
   ]
  }
 ],
 "metadata": {
  "language_info": {
   "name": "python"
  }
 },
 "nbformat": 4,
 "nbformat_minor": 2
}
