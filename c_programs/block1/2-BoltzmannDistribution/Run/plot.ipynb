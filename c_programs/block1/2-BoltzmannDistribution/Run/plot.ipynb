{
 "cells": [
  {
   "cell_type": "code",
   "execution_count": 2,
   "metadata": {},
   "outputs": [],
   "source": [
    "import numpy as np\n",
    "import matplotlib.pyplot as plt"
   ]
  },
  {
   "cell_type": "code",
   "execution_count": 5,
   "metadata": {},
   "outputs": [],
   "source": [
    "# read data (e.g. 5000 energy levels, varying temperature)\n",
    "data_1 = np.loadtxt('results.dat')\n",
    "x_1 = data_1[:, 0]\n",
    "y_1 = data_1[:, 1]"
   ]
  },
  {
   "cell_type": "code",
   "execution_count": null,
   "metadata": {},
   "outputs": [],
   "source": [
    "plt.figure()\n",
    "plt.plot(x_1,y_1, lw=3, label='T=1', color='r')\n",
    "plt.xlim(0, 20)\n",
    "plt.xlabel('energy level')\n",
    "plt.ylabel('distribution')\n",
    "plt.title('Boltzmann distribution')\n",
    "plt.legend()\n",
    "plt.tight_layout()\n",
    "plt.savefig('boltzmann_distribution.png')\n",
    "plt.show()\n",
    "plt.close()"
   ]
  },
  {
   "cell_type": "code",
   "execution_count": null,
   "metadata": {},
   "outputs": [],
   "source": []
  }
 ],
 "metadata": {
  "kernelspec": {
   "display_name": "aiida1.6",
   "language": "python",
   "name": "python3"
  },
  "language_info": {
   "codemirror_mode": {
    "name": "ipython",
    "version": 3
   },
   "file_extension": ".py",
   "mimetype": "text/x-python",
   "name": "python",
   "nbconvert_exporter": "python",
   "pygments_lexer": "ipython3",
   "version": "3.7.13 (default, Oct 18 2022, 18:57:03) \n[GCC 11.2.0]"
  },
  "orig_nbformat": 4,
  "vscode": {
   "interpreter": {
    "hash": "1d0c5f8efdce12e9899ce7643a88b03bdd5a48e875879f5a179b810e2f6aae19"
   }
  }
 },
 "nbformat": 4,
 "nbformat_minor": 2
}
