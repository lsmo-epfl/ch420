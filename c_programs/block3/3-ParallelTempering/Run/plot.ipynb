{
 "cells": [
  {
   "cell_type": "code",
   "execution_count": null,
   "metadata": {},
   "outputs": [],
   "source": [
    "import os\n",
    "import numpy as np\n",
    "import matplotlib.pyplot as plt"
   ]
  },
  {
   "cell_type": "code",
   "execution_count": null,
   "metadata": {},
   "outputs": [],
   "source": [
    "# the settings here will work if you ran the files run_alt_ex2 and run_alt_ex3; if you did it differently, change accordingly\n",
    "data_folder = os.path.abspath('diff_est/')\n",
    "pt_data_folder = os.path.abspath('swp_diff_est/')\n",
    "# different temperatures, leave empty if single temperature, and set run to None\n",
    "temps = [0.001,0.01,0.025,0.05]\n",
    "# run number, set to None if single run\n",
    "run = 1\n",
    "# nsystems, for swapping case\n",
    "nsystems = [1,2,3,4]"
   ]
  },
  {
   "cell_type": "code",
   "execution_count": null,
   "metadata": {},
   "outputs": [],
   "source": [
    "# plot position\n",
    "if temps == [] and run==None:\n",
    "    # change accordingly\n",
    "    data = np.loadtxt('position_distribution.dat')\n",
    "    plt.scatter(data[:,0], data[:,1])\n",
    "else:\n",
    "    # generate list of n colors where n is the number of temperatures\n",
    "    colors = plt.cm.viridis(np.linspace(0, 1, len(temps)))\n",
    "    for i in temps:\n",
    "        data = np.loadtxt(data_folder+'/position_distribution_'+str(i)+'_'+str(run)+'.dat')\n",
    "        plt.scatter(data[:,0], data[:,1], color=colors[temps.index(i)], label='T='+str(i),s=6)\n",
    "# plt.yscale('log')\n",
    "plt.xlim(0, 1)\n",
    "plt.ylim(0, 0.02)\n",
    "plt.xlabel('Fractional box position x')\n",
    "plt.ylabel('Probability')\n",
    "plt.legend()\n",
    "plt.grid()\n",
    "plt.title('Position distribution, no swapping')\n",
    "plt.tight_layout()\n",
    "plt.savefig('position_distribution_e2.pdf')\n"
   ]
  },
  {
   "cell_type": "code",
   "execution_count": null,
   "metadata": {},
   "outputs": [],
   "source": [
    "# plot energy\n",
    "if temps == [] and run==None:\n",
    "    # change accordingly\n",
    "    data = np.loadtxt('energy_distribution.dat')\n",
    "    plt.scatter(data[:,0], data[:,1])\n",
    "else:\n",
    "    # generate list of n colors where n is the number of temperatures\n",
    "    colors = plt.cm.viridis(np.linspace(0, 1, len(temps)))\n",
    "    for i in temps:\n",
    "        data = np.loadtxt(data_folder+'/energy_distribution_'+str(i)+'_'+str(run)+'.dat')\n",
    "        plt.scatter(data[:,0], data[:,1], color=colors[temps.index(i)], label='T='+str(i),s=6)\n",
    "plt.xscale('log')\n",
    "plt.yscale('log')\n",
    "plt.xlim(0, 2)\n",
    "plt.legend()\n",
    "plt.xlabel('Energy')\n",
    "plt.ylabel('Probability')\n",
    "plt.grid()\n",
    "plt.title('Energy distribution, no swapping')\n",
    "plt.tight_layout()\n",
    "plt.savefig('energy_distribution_e2.pdf')"
   ]
  },
  {
   "cell_type": "markdown",
   "metadata": {},
   "source": [
    "Modify pt.c to include parallel tempering, and re-run the simulation"
   ]
  },
  {
   "cell_type": "code",
   "execution_count": null,
   "metadata": {},
   "outputs": [],
   "source": [
    "# plot position\n",
    "i=1\n",
    "run=1\n",
    "data = np.loadtxt(pt_data_folder+'/position_distribution_'+str(i)+'_'+str(run)+'.dat')\n",
    "# separate data, when x is 1, the next value of x is the delimiter\n",
    "delim = np.where(data[:,0]==1)[0]\n",
    "data1 = data[:delim[0]+1]\n",
    "colors = plt.cm.viridis(np.linspace(0, 1, i))\n",
    "plt.scatter(data1[:,0], data1[:,1], label='System 1',s=6,c=colors[0])\n",
    "# plt.yscale('log')\n",
    "plt.xlim(0, 1)\n",
    "plt.ylim(0, 0.02)\n",
    "plt.xlabel('Fractional box position x')\n",
    "plt.ylabel('Probability')\n",
    "plt.legend()\n",
    "plt.grid()\n",
    "plt.title('Position distribution, with swapping')\n",
    "plt.tight_layout()\n",
    "plt.savefig('position_distribution_e3_2s.pdf')\n"
   ]
  },
  {
   "cell_type": "code",
   "execution_count": null,
   "metadata": {},
   "outputs": [],
   "source": [
    "# plot position\n",
    "i=2\n",
    "run=1\n",
    "data = np.loadtxt(pt_data_folder+'/position_distribution_'+str(i)+'_'+str(run)+'.dat')\n",
    "# separate data, when x is 1, the next value of x is the delimiter\n",
    "delim = np.where(data[:,0]==1)[0]\n",
    "data1 = data[:delim[0]+1]\n",
    "data2 = data[delim[0]+1:delim[1]+1]\n",
    "colors = plt.cm.viridis(np.linspace(0, 1, i))\n",
    "plt.scatter(data1[:,0], data1[:,1], label='System 1',s=6,c=colors[0])\n",
    "plt.scatter(data2[:,0], data2[:,1], label='System 2',s=6,c=colors[1])\n",
    "# plt.yscale('log')\n",
    "plt.xlim(0, 1)\n",
    "plt.ylim(0, 0.02)\n",
    "plt.xlabel('Fractional box position x')\n",
    "plt.ylabel('Probability')\n",
    "plt.legend()\n",
    "plt.grid()\n",
    "plt.title('Position distribution, with swapping')\n",
    "plt.tight_layout()\n",
    "plt.savefig('position_distribution_e3_2s.pdf')"
   ]
  },
  {
   "cell_type": "code",
   "execution_count": null,
   "metadata": {},
   "outputs": [],
   "source": [
    "# plot position\n",
    "i=3\n",
    "run=1\n",
    "data = np.loadtxt(pt_data_folder+'/position_distribution_'+str(i)+'_'+str(run)+'.dat')\n",
    "# separate data, when x is 1, the next value of x is the delimiter\n",
    "delim = np.where(data[:,0]==1)[0]\n",
    "data1 = data[:delim[0]+1]\n",
    "data2 = data[delim[0]+1:delim[1]+1]\n",
    "data3 = data[delim[1]+1:delim[2]+1]\n",
    "colors = plt.cm.viridis(np.linspace(0, 1, i))\n",
    "plt.scatter(data1[:,0], data1[:,1], label='System 1',s=6,c=colors[0])\n",
    "plt.scatter(data2[:,0], data2[:,1], label='System 2',s=6,c=colors[1])\n",
    "plt.scatter(data3[:,0], data3[:,1], label='System 3',s=6,c=colors[2])\n",
    "# plt.yscale('log')\n",
    "plt.xlim(0, 1)\n",
    "plt.ylim(0, 0.02)\n",
    "plt.xlabel('Fractional box position x')\n",
    "plt.ylabel('Probability')\n",
    "plt.legend()\n",
    "plt.grid()\n",
    "plt.title('Position distribution, with swapping')\n",
    "plt.tight_layout()\n",
    "plt.savefig('position_distribution_e3_3s.pdf')"
   ]
  },
  {
   "cell_type": "code",
   "execution_count": null,
   "metadata": {},
   "outputs": [],
   "source": [
    "# plot position\n",
    "i=4\n",
    "run=1\n",
    "data = np.loadtxt(pt_data_folder+'/position_distribution_'+str(i)+'_'+str(run)+'.dat')\n",
    "# separate data, when x is 1, the next value of x is the delimiter\n",
    "delim = np.where(data[:,0]==1)[0]\n",
    "data1 = data[:delim[0]+1]\n",
    "data2 = data[delim[0]+1:delim[1]+1]\n",
    "data3 = data[delim[1]+1:delim[2]+1]\n",
    "data4 = data[delim[2]+1:]\n",
    "colors = plt.cm.viridis(np.linspace(0, 1, i))\n",
    "plt.scatter(data1[:,0], data1[:,1], label='System 1',s=6,c=colors[0])\n",
    "plt.scatter(data2[:,0], data2[:,1], label='System 2',s=6,c=colors[1])\n",
    "plt.scatter(data3[:,0], data3[:,1], label='System 3',s=6,c=colors[2])\n",
    "plt.scatter(data4[:,0], data4[:,1], label='System 4',s=6,c=colors[3])\n",
    "# plt.yscale('log')\n",
    "plt.xlim(0, 1)\n",
    "plt.ylim(0, 0.02)\n",
    "plt.xlabel('Fractional box position x')\n",
    "plt.ylabel('Probability')\n",
    "plt.legend()\n",
    "plt.grid()\n",
    "plt.title('Position distribution, with swapping')\n",
    "plt.tight_layout()\n",
    "plt.savefig('position_distribution_e3_4s.pdf')"
   ]
  },
  {
   "cell_type": "code",
   "execution_count": null,
   "metadata": {},
   "outputs": [],
   "source": [
    "# plot energy, for 4 systems\n",
    "i=4\n",
    "run=1\n",
    "data = np.loadtxt(pt_data_folder+'/energy_distribution_'+str(i)+'_'+str(run)+'.dat')\n",
    "plt.scatter(data[:,0], data[:,1], color=colors[nsystems.index(i)], label='Nsystems='+str(i),s=6)\n",
    "plt.xscale('log')\n",
    "plt.yscale('log')\n",
    "plt.xlim(0, 2)\n",
    "plt.legend()\n",
    "plt.xlabel('Energy')\n",
    "plt.ylabel('Probability')\n",
    "plt.grid()\n",
    "plt.title('Energy distribution, with swapping')\n",
    "plt.tight_layout()\n",
    "plt.savefig('energy_distribution_e3_4s.pdf')"
   ]
  },
  {
   "cell_type": "code",
   "execution_count": null,
   "metadata": {},
   "outputs": [],
   "source": [
    "run=1\n",
    "nsyst_swap=4\n",
    "temp=0.05\n",
    "colors = plt.cm.viridis(np.linspace(0, 1, 2))\n",
    "data_noswap = np.loadtxt(data_folder+'/position_distribution_'+str(temp)+'_'+str(run)+'.dat')\n",
    "data_swap = np.loadtxt(pt_data_folder+'/position_distribution_'+str(nsyst_swap)+'_'+str(run)+'.dat')\n",
    "delim = np.where(data_swap[:,0]==1)[0]\n",
    "data_swap4 = data_swap[delim[2]+1:] # system 4, for a case with 4 systems, where the last system has temperature=0.05; change accordingly\n",
    "colors = plt.cm.viridis(np.linspace(0, 1, 2))\n",
    "plt.scatter(data_noswap[:,0], data_noswap[:,1], color=colors[0], label='T='+str(i)+', no swap',s=6)\n",
    "plt.scatter(data_swap4[:,0], data_swap4[:,1], color=colors[1], label='T='+str(i)+', system '+str(nsyst_swap)+', swap',s=6)\n",
    "# plt.yscale('log')\n",
    "plt.xlim(0, 1)\n",
    "plt.ylim(0, 0.006)\n",
    "plt.xlabel('Fractional box position x')\n",
    "plt.ylabel('Probability')\n",
    "plt.legend()\n",
    "plt.grid()\n",
    "plt.title('Position distribution, comparison')\n",
    "plt.tight_layout()\n",
    "plt.savefig('position_distribution_e4.pdf')"
   ]
  },
  {
   "cell_type": "code",
   "execution_count": null,
   "metadata": {},
   "outputs": [],
   "source": [
    "run=1\n",
    "nsyst_swap=4\n",
    "temp=0.05\n",
    "colors = plt.cm.viridis(np.linspace(0, 1, 2))\n",
    "data_noswap = np.loadtxt(data_folder+'/energy_distribution_'+str(temp)+'_'+str(run)+'.dat')\n",
    "data_swap = np.loadtxt(pt_data_folder+'/energy_distribution_'+str(nsyst_swap)+'_'+str(run)+'.dat')\n",
    "colors = plt.cm.viridis(np.linspace(0, 1, 2))\n",
    "plt.scatter(data_noswap[:,0], data_noswap[:,1], color=colors[0], label='T='+str(i)+', no swap',s=6)\n",
    "plt.scatter(data_swap[:,0], data_swap[:,1], color=colors[1], label='T='+str(i)+', system '+str(nsyst_swap)+', swap',s=6)\n",
    "plt.xscale('log')\n",
    "plt.yscale('log')\n",
    "plt.xlim(0, 2)\n",
    "plt.legend()\n",
    "plt.xlabel('Energy')\n",
    "plt.ylabel('Probability')\n",
    "plt.grid()\n",
    "plt.title('Energy distribution, with swapping')\n",
    "plt.tight_layout()\n",
    "plt.savefig('energy_distribution_e4.pdf')"
   ]
  },
  {
   "cell_type": "code",
   "execution_count": null,
   "metadata": {},
   "outputs": [],
   "source": []
  }
 ],
 "metadata": {
  "kernelspec": {
   "display_name": "aiida1.6",
   "language": "python",
   "name": "python3"
  },
  "language_info": {
   "codemirror_mode": {
    "name": "ipython",
    "version": 3
   },
   "file_extension": ".py",
   "mimetype": "text/x-python",
   "name": "python",
   "nbconvert_exporter": "python",
   "pygments_lexer": "ipython3",
   "version": "3.7.13"
  },
  "orig_nbformat": 4,
  "vscode": {
   "interpreter": {
    "hash": "1d0c5f8efdce12e9899ce7643a88b03bdd5a48e875879f5a179b810e2f6aae19"
   }
  }
 },
 "nbformat": 4,
 "nbformat_minor": 2
}
